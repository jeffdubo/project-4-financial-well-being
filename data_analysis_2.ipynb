{
 "cells": [
  {
   "cell_type": "markdown",
   "metadata": {
    "id": "rUpNpr1Il78P"
   },
   "source": [
    "# Financial Well-Being Project: Data Analysis"
   ]
  },
  {
   "cell_type": "code",
   "execution_count": null,
   "metadata": {
    "id": "Ki4yDeXNl1Ll"
   },
   "outputs": [],
   "source": [
    "# Import dependencies\n",
    "import pandas as pd\n",
    "import numpy as np\n",
    "from pathlib import Path\n",
    "import matplotlib.pyplot as plt\n",
    "from pprint import pprint\n",
    "\n",
    "# Preparing and scaling data\n",
    "from sklearn.preprocessing import StandardScaler\n",
    "from sklearn.model_selection import train_test_split\n",
    "\n",
    "# Machine learning models and optimizers\n",
    "from sklearn.linear_model import LinearRegression\n",
    "from sklearn.tree import DecisionTreeClassifier\n",
    "from sklearn.tree import plot_tree\n",
    "from sklearn.model_selection import RandomizedSearchCV\n",
    "from sklearn.ensemble import RandomForestClassifier\n",
    "\n",
    "# Metrics for model evaluation\n",
    "from sklearn.metrics import mean_squared_error, r2_score, confusion_matrix, accuracy_score, classification_report"
   ]
  },
  {
   "cell_type": "markdown",
   "metadata": {},
   "source": [
    "## Load Preprocessed Data"
   ]
  },
  {
   "cell_type": "code",
   "execution_count": null,
   "metadata": {
    "id": "z20WEQHO8vfd",
    "scrolled": true
   },
   "outputs": [],
   "source": [
    "# Set path for CSV file\n",
    "path = Path('data/fwb_processed_data_2.csv')\n",
    "# path = Path('resources/NFWBS_PUF_2016_data.csv')\n",
    "\n",
    "# Load preprocessed data\n",
    "data_df = pd.read_csv(path, index_col=0)\n",
    "\n",
    "# Display shape and sample data\n",
    "print(f'Dataframe shape: {data_df.shape}')\n",
    "data_df.head()"
   ]
  },
  {
   "cell_type": "markdown",
   "metadata": {},
   "source": [
    "## Model Definitions and Functions"
   ]
  },
  {
   "cell_type": "code",
   "execution_count": null,
   "metadata": {},
   "outputs": [],
   "source": [
    "# Define features set\n",
    "X = data_df.copy()\n",
    "X.drop(columns=['FWBscore', 'FWBscore_wt'], axis=1, inplace=True)\n",
    "X.head()"
   ]
  },
  {
   "cell_type": "code",
   "execution_count": null,
   "metadata": {},
   "outputs": [],
   "source": [
    "# Define target\n",
    "y = data_df['FWBscore'].values.reshape(-1, 1)\n",
    "y[:5]"
   ]
  },
  {
   "cell_type": "code",
   "execution_count": null,
   "metadata": {},
   "outputs": [],
   "source": [
    "# Function to evaluate model using confusion matrix and classification report\n",
    "def eval_model_cmcr():\n",
    "    # Calculating the confusion matrix\n",
    "    index = ['Actual ' + label for label in class_labels]\n",
    "    columns = ['Predicted ' + label for label in class_labels]\n",
    "\n",
    "    cm = confusion_matrix(y_test, predictions)\n",
    "    cm_df = pd.DataFrame(\n",
    "        cm, index=index,\n",
    "        columns=columns\n",
    "    )\n",
    "\n",
    "    # Calculating the accuracy score\n",
    "    acc_score = accuracy_score(y_test, predictions)\n",
    "    \n",
    "    # Displaying results\n",
    "    print(\"Confusion Matrix\")\n",
    "    display(cm_df)\n",
    "    print(f\"Accuracy Score : {acc_score}\")\n",
    "    print(\"Classification Report\")\n",
    "    print(classification_report(y_test, predictions))\n",
    "    return round(acc_score, 3)"
   ]
  },
  {
   "cell_type": "code",
   "execution_count": null,
   "metadata": {},
   "outputs": [],
   "source": [
    "# Function to split up and classify target based on percentiles\n",
    "def classify_y(num, labels):\n",
    "    y = pd.qcut(data_df['FWBscore'], num, labels=labels)\n",
    "    y = y.ravel()\n",
    "    print(y[:5])\n",
    "    return y"
   ]
  },
  {
   "cell_type": "code",
   "execution_count": null,
   "metadata": {},
   "outputs": [],
   "source": [
    "# Function to plot a decision tree\n",
    "def plot_d_tree(model, acc_score, i, num_classes, figsize):\n",
    "    \n",
    "    # Configure plot\n",
    "    fig, axes = plt.subplots(nrows=1, ncols=1, figsize=figsize, dpi=600)\n",
    "    \n",
    "    # Plot tree\n",
    "    plot_tree(model, feature_names=feature_names, class_names=class_labels, filled=True)\n",
    "    title = f'Decision Tree Model #{i+1} with {num_classes} Classes\\nAccuracy Score:{acc_score}'\n",
    "    axes.set_title(title, fontsize = 11)\n",
    "    \n",
    "    # Save tree\n",
    "    plt.savefig(f'images/dataset_2/dt_{num_classes}c_{i+1}.png')"
   ]
  },
  {
   "cell_type": "code",
   "execution_count": null,
   "metadata": {},
   "outputs": [],
   "source": [
    "# Function to plot first 4 trees in a random forest\n",
    "# Code ref: https://stackoverflow.com/questions/40155128/plot-trees-for-a-random-forest-in-python-with-scikit-learn\n",
    "def plot_r_forest(model, acc_score, i, num_classes, figsize):\n",
    "    \n",
    "    # Configure plot\n",
    "    fig, axes = plt.subplots(nrows=4, ncols=1, figsize=figsize, dpi=600)\n",
    "    for index in range(0, 4):\n",
    "        plot_tree(model.estimators_[index],\n",
    "                       feature_names = feature_names, \n",
    "                       class_names=class_labels,\n",
    "                       filled = True,\n",
    "                       ax = axes[index])\n",
    "        if index == 0:\n",
    "            title = f'Randon Forest Model #{i+1} with {num_classes} Classes\\nEstimator: {index}, Accuracy Score:{acc_score}'\n",
    "        else:\n",
    "            title = f'Estimator: {index}'\n",
    "        axes[index].set_title(title, fontsize = 11)\n",
    "    \n",
    "    # Save tree\n",
    "    plt.savefig(f'images/dataset_1/rf_{num_classes}c_{i+1}.png')"
   ]
  },
  {
   "cell_type": "markdown",
   "metadata": {},
   "source": [
    "## Linear Regression Model"
   ]
  },
  {
   "cell_type": "code",
   "execution_count": null,
   "metadata": {},
   "outputs": [],
   "source": [
    "# Create a model with scikit-learn\n",
    "model_lr = LinearRegression()"
   ]
  },
  {
   "cell_type": "markdown",
   "metadata": {},
   "source": [
    "### Fit the model and make predictions"
   ]
  },
  {
   "cell_type": "code",
   "execution_count": null,
   "metadata": {},
   "outputs": [],
   "source": [
    "# Fit the data into the model\n",
    "model_lr.fit(X, y)"
   ]
  },
  {
   "cell_type": "code",
   "execution_count": null,
   "metadata": {},
   "outputs": [],
   "source": [
    "# Make predictions using the X set\n",
    "predicted_y_values = model_lr.predict(X)\n",
    "\n",
    "# Create a copy of the original data\n",
    "predicted_df = data_df.copy()\n",
    "\n",
    "# Add a column with the predicted salary values\n",
    "predicted_df[\"predicted_FWBscore\"] = predicted_y_values\n",
    "\n",
    "# Display sample data\n",
    "predicted_df"
   ]
  },
  {
   "cell_type": "markdown",
   "metadata": {},
   "source": [
    "### Evaluate the model"
   ]
  },
  {
   "cell_type": "code",
   "execution_count": null,
   "metadata": {},
   "outputs": [],
   "source": [
    "# Compute metrics for the linear regression model: score, r2, mse, rmse, std\n",
    "score = model_lr.score(X, y, sample_weight=None)\n",
    "r2 = r2_score(y, predicted_y_values)\n",
    "mse = mean_squared_error(y, predicted_y_values)\n",
    "rmse = np.sqrt(mse)\n",
    "std = np.std(y)\n",
    "\n",
    "# Print relevant metrics.\n",
    "print(f\"The score is {score}.\")\n",
    "print(f\"The r2 is {r2}.\")\n",
    "print(f\"The mean squared error is {mse}.\")\n",
    "print(f\"The root mean squared error is {rmse}.\")\n",
    "print(f\"The standard deviation is {std}.\")"
   ]
  },
  {
   "cell_type": "markdown",
   "metadata": {},
   "source": [
    "## Decision Tree with 2 Target Classes"
   ]
  },
  {
   "cell_type": "markdown",
   "metadata": {},
   "source": [
    "### Setup and scale data"
   ]
  },
  {
   "cell_type": "code",
   "execution_count": null,
   "metadata": {},
   "outputs": [],
   "source": [
    "# Display quartiles for cutting\n",
    "data_df['FWBscore'].quantile([.25, .5, .75])"
   ]
  },
  {
   "cell_type": "code",
   "execution_count": null,
   "metadata": {},
   "outputs": [],
   "source": [
    "# Create 2 target classes\n",
    "num_classes = 2\n",
    "class_labels = ['Bad', 'Good']\n",
    "y = classify_y(num_classes, class_labels)"
   ]
  },
  {
   "cell_type": "code",
   "execution_count": null,
   "metadata": {},
   "outputs": [],
   "source": [
    "# Splitting into Train and Test sets\n",
    "X_train, X_test, y_train, y_test = train_test_split(X, y, random_state=78)"
   ]
  },
  {
   "cell_type": "markdown",
   "metadata": {},
   "source": [
    "### Determine the best set of hyperparameters"
   ]
  },
  {
   "cell_type": "code",
   "execution_count": null,
   "metadata": {},
   "outputs": [],
   "source": [
    "# Set possible values for hyperparameters\n",
    "parameters = {'max_depth': [3, 5, 7, 9, 10, 20, 50],\n",
    "              'criterion': ['gini', 'entropy'],\n",
    "              'max_features': ['sqrt', 'log2', None],\n",
    "              'min_samples_split': [2, 4, 6, 10, 20, 30],\n",
    "              'min_samples_leaf': [1, 2, 5, 8] \n",
    "             }"
   ]
  },
  {
   "cell_type": "code",
   "execution_count": null,
   "metadata": {},
   "outputs": [],
   "source": [
    "# Create the decision tree classifier instance\n",
    "model_dt = RandomizedSearchCV(DecisionTreeClassifier(),param_distributions = parameters, cv = 20, verbose = True)"
   ]
  },
  {
   "cell_type": "code",
   "execution_count": null,
   "metadata": {},
   "outputs": [],
   "source": [
    "# Fit the model\n",
    "model_dt = model_dt.fit(X_train, y_train)"
   ]
  },
  {
   "cell_type": "code",
   "execution_count": null,
   "metadata": {},
   "outputs": [],
   "source": [
    "model_dt.best_estimator_"
   ]
  },
  {
   "cell_type": "markdown",
   "metadata": {},
   "source": [
    "### Fit, Predict and Evaluate Model"
   ]
  },
  {
   "cell_type": "code",
   "execution_count": null,
   "metadata": {},
   "outputs": [],
   "source": [
    "# Create list to store decision tree classifier instances\n",
    "model_dt2c = []\n",
    "\n",
    "# DT Model #1: Default settings\n",
    "model_dt2c.append(DecisionTreeClassifier(max_depth=None, max_features=None, min_samples_split=2, min_samples_leaf=1))\n",
    "\n",
    "# DT Model #1: Simple tree\n",
    "model_dt2c.append(DecisionTreeClassifier(max_depth=4, max_features=None, min_samples_split=5, min_samples_leaf=3))  \n",
    "\n",
    "# DT Model #3: Best results after testing\n",
    "model_dt2c.append(DecisionTreeClassifier(max_depth=5, max_features=None, min_samples_split=10, min_samples_leaf=5))                 \n",
    "                  \n",
    "# DT Model #4: One of the best estimators from RandomizedSearchCV\n",
    "model_dt2c.append(DecisionTreeClassifier(max_depth=7, max_features=None, min_samples_split=4, min_samples_leaf=5))"
   ]
  },
  {
   "cell_type": "code",
   "execution_count": null,
   "metadata": {},
   "outputs": [],
   "source": [
    "# Create list to store accurancy scores\n",
    "acc_score_dt2c = []\n",
    "\n",
    "# Loop to Fit, predict and evaluate models\n",
    "for i in range(0, len(model_dt2c)):\n",
    "    model = model_dt2c[i]           \n",
    "               \n",
    "    # Fit the model\n",
    "    model = model.fit(X_train, y_train)\n",
    "\n",
    "    # Make predictions using the testing data\n",
    "    predictions = model.predict(X_test)\n",
    "    \n",
    "    # Evaluate the model and store accuracy score\n",
    "    print(f'Evaluation of Model #{i+1}\\n')\n",
    "    acc_score = eval_model_cmcr()\n",
    "    acc_score_dt2c.append(acc_score)"
   ]
  },
  {
   "cell_type": "markdown",
   "metadata": {},
   "source": [
    "### Plot and Save Decision Trees"
   ]
  },
  {
   "cell_type": "code",
   "execution_count": null,
   "metadata": {},
   "outputs": [],
   "source": [
    "feature_names = list(X.columns)\n",
    "figsize = (15, 5)"
   ]
  },
  {
   "cell_type": "code",
   "execution_count": null,
   "metadata": {},
   "outputs": [],
   "source": [
    "# Plot trees for each model\n",
    "for i in range(0, len(model_dt2c)):\n",
    "    plot_d_tree(model_dt2c[i], acc_score_dt2c[i], i, num_classes, figsize)"
   ]
  },
  {
   "cell_type": "code",
   "execution_count": null,
   "metadata": {
    "scrolled": true
   },
   "outputs": [],
   "source": [
    "# Plot one tree - Use to adjust figsize or test one model\n",
    "i = 0\n",
    "num_classes = 2\n",
    "figsize=(50, 8)\n",
    "\n",
    "# plot_d_tree(model_dt2c[i], acc_score_dt2c[i], i, num_classes, figsize)"
   ]
  },
  {
   "cell_type": "markdown",
   "metadata": {},
   "source": [
    "## Random Forest with 2 Target Classes"
   ]
  },
  {
   "cell_type": "markdown",
   "metadata": {},
   "source": [
    "### Determine the best set of hyperparameters"
   ]
  },
  {
   "cell_type": "code",
   "execution_count": null,
   "metadata": {},
   "outputs": [],
   "source": [
    "# Create random grid with parameters\n",
    "# Resource: https://towardsdatascience.com/hyperparameter-tuning-the-random-forest-in-python-using-scikit-learn-28d2aa77dd74\n",
    "\n",
    "parameters = {'n_estimators': [200, 250, 300, 500, 800, 1000, 1500, 2000],\n",
    "               'max_depth': [5, 8, 10, 15, 20, 50],\n",
    "               'min_samples_split': [2, 3, 5, 7, 10, 20],\n",
    "               'min_samples_leaf': [1, 2, 4, 6],\n",
    "               'bootstrap': [True, False]\n",
    "             }"
   ]
  },
  {
   "cell_type": "code",
   "execution_count": null,
   "metadata": {},
   "outputs": [],
   "source": [
    "# Create the RF classifier instance\n",
    "model_rf = RandomizedSearchCV(RandomForestClassifier(), param_distributions = parameters, cv = 5, verbose = True)"
   ]
  },
  {
   "cell_type": "code",
   "execution_count": null,
   "metadata": {},
   "outputs": [],
   "source": [
    "# Fit the model\n",
    "model_rf = model_rf.fit(X_train, y_train)"
   ]
  },
  {
   "cell_type": "code",
   "execution_count": null,
   "metadata": {
    "scrolled": false
   },
   "outputs": [],
   "source": [
    "model_rf.best_estimator_"
   ]
  },
  {
   "cell_type": "markdown",
   "metadata": {},
   "source": [
    "### Fit, Predict and Evaluate Model"
   ]
  },
  {
   "cell_type": "code",
   "execution_count": null,
   "metadata": {},
   "outputs": [],
   "source": [
    "# Create list to store decision tree classifier instances\n",
    "model_rf2c = []\n",
    "\n",
    "# RF Model #1 \n",
    "model_rf2c.append(RandomForestClassifier(n_estimators=200, random_state=78, bootstrap=True,\n",
    "                                         max_depth=5, min_samples_split=2, min_samples_leaf=1))\n",
    "\n",
    "# RF Model #2\n",
    "model_rf2c.append(RandomForestClassifier(n_estimators=500, random_state=78, bootstrap=False,\n",
    "                                         max_depth=10, min_samples_split=5, min_samples_leaf=3))                 \n",
    "                  \n",
    "# RF Model #3: One of the best estimators from RandomizedSearchCV\n",
    "model_rf2c.append(RandomForestClassifier(n_estimators=250, random_state=78, bootstrap=False,\n",
    "                                         max_depth=20, min_samples_split=5, min_samples_leaf=4))"
   ]
  },
  {
   "cell_type": "code",
   "execution_count": null,
   "metadata": {
    "scrolled": true
   },
   "outputs": [],
   "source": [
    "# Create list to store accurancy scores\n",
    "acc_score_rf2c = []\n",
    "\n",
    "# Loop to fit, predict and evaluate models\n",
    "for i in range(0, len(model_rf2c)):\n",
    "    model = model_rf2c[i]           \n",
    "               \n",
    "    # Fit the model\n",
    "    model = model.fit(X_train, y_train)\n",
    "\n",
    "    # Make predictions using the testing data\n",
    "    predictions = model.predict(X_test)\n",
    "    \n",
    "    # Evaluate the model and save accuracy score\n",
    "    print(f'Evaluation of Model #{i+1}\\n')\n",
    "    acc_score = eval_model_cmcr()\n",
    "    acc_score_rf2c.append(acc_score)"
   ]
  },
  {
   "cell_type": "markdown",
   "metadata": {},
   "source": [
    "### Plot and Save Images of Sample Trees"
   ]
  },
  {
   "cell_type": "code",
   "execution_count": null,
   "metadata": {},
   "outputs": [],
   "source": [
    "feature_names = list(X.columns)\n",
    "figsize = (20, 20)"
   ]
  },
  {
   "cell_type": "code",
   "execution_count": null,
   "metadata": {},
   "outputs": [],
   "source": [
    "# Plot trees for each forest\n",
    "for i in range(0, len(model_rf2c)):\n",
    "    plot_r_forest(model_rf2c[i], acc_score_rf2c[i], i, num_classes, figsize)"
   ]
  },
  {
   "cell_type": "code",
   "execution_count": null,
   "metadata": {},
   "outputs": [],
   "source": [
    "# Plot trees for one forest - Use to adjust figsize or test one model\n",
    "i = 1\n",
    "num_classes = 2\n",
    "figsize = (25, 25)\n",
    "\n",
    "# plot_r_forest(model_rf2c[i], acc_score_rf2c[i], i, num_classes, figsize)"
   ]
  },
  {
   "cell_type": "code",
   "execution_count": null,
   "metadata": {
    "scrolled": true
   },
   "outputs": [],
   "source": [
    "# Random Forests in sklearn will automatically calculate feature importance\n",
    "# Loop through models to display features sorted by importance hight to low\n",
    "for i in range(0, len(model_rf2c)):\n",
    "    model = model_rf2c[i]\n",
    "    importances = model.feature_importances_\n",
    "    \n",
    "    # Sort features by their importance for current model\n",
    "    pprint(f'Feature Importance for Model #{i+1}')\n",
    "    pprint(sorted(zip(model.feature_importances_[0:15], X.columns[0:15]), reverse=True))\n",
    "    print('\\n')"
   ]
  },
  {
   "cell_type": "markdown",
   "metadata": {},
   "source": [
    "## Decision Tree with 3 Target Classes"
   ]
  },
  {
   "cell_type": "markdown",
   "metadata": {},
   "source": [
    "### Setup and scale data"
   ]
  },
  {
   "cell_type": "code",
   "execution_count": null,
   "metadata": {},
   "outputs": [],
   "source": [
    "# Display quartiles for cutting\n",
    "data_df['FWBscore'].quantile([.25, .5, .75])"
   ]
  },
  {
   "cell_type": "code",
   "execution_count": null,
   "metadata": {},
   "outputs": [],
   "source": [
    "# Create 3 target classes\n",
    "num_classes = 3\n",
    "class_labels = ['<Avg', 'Avg', '>Avg']\n",
    "y = classify_y(num_classes, class_labels)"
   ]
  },
  {
   "cell_type": "code",
   "execution_count": null,
   "metadata": {},
   "outputs": [],
   "source": [
    "# Splitting into Train and Test sets\n",
    "X_train, X_test, y_train, y_test = train_test_split(X, y, random_state=78)"
   ]
  },
  {
   "cell_type": "markdown",
   "metadata": {},
   "source": [
    "### Determine the best set of hyperparameters"
   ]
  },
  {
   "cell_type": "code",
   "execution_count": null,
   "metadata": {},
   "outputs": [],
   "source": [
    "parameters = {'max_depth': [3, 5, 7, 9, 10, 25],\n",
    "              'max_features': ['sqrt', 'log2', None],\n",
    "              'min_samples_split': [2, 4, 6, 10, 20, 30],\n",
    "              'min_samples_leaf': [1, 2, 5, 8, 10, 20] \n",
    "             }"
   ]
  },
  {
   "cell_type": "code",
   "execution_count": null,
   "metadata": {},
   "outputs": [],
   "source": [
    "# Create the decision tree classifier instance\n",
    "model_dt = RandomizedSearchCV(DecisionTreeClassifier(),param_distributions = parameters, cv = 20, verbose = True)"
   ]
  },
  {
   "cell_type": "code",
   "execution_count": null,
   "metadata": {},
   "outputs": [],
   "source": [
    "# Fit the model\n",
    "model_dt = model_dt.fit(X_train, y_train)"
   ]
  },
  {
   "cell_type": "code",
   "execution_count": null,
   "metadata": {},
   "outputs": [],
   "source": [
    "model_dt.best_estimator_"
   ]
  },
  {
   "cell_type": "markdown",
   "metadata": {},
   "source": [
    "### Fit, Predict and Evaluate Model"
   ]
  },
  {
   "cell_type": "code",
   "execution_count": null,
   "metadata": {},
   "outputs": [],
   "source": [
    "# Create list to store decision tree classifier instances\n",
    "model_dt3c = []\n",
    "\n",
    "# DT Model #1: Default settings\n",
    "model_dt3c.append(DecisionTreeClassifier(max_depth=None, max_features=None, min_samples_split=2, min_samples_leaf=1))\n",
    "\n",
    "# DT Model #1: Simple tree\n",
    "model_dt3c.append(DecisionTreeClassifier(max_depth=4, max_features=None, min_samples_split=5, min_samples_leaf=3))  \n",
    "\n",
    "# DT Model #3: Best results after testing\n",
    "model_dt3c.append(DecisionTreeClassifier(max_depth=5, max_features=None, min_samples_split=10, min_samples_leaf=5))                 \n",
    "                  \n",
    "# DT Model #4: Best estimator from RandomizedSearchCV\n",
    "model_dt3c.append(DecisionTreeClassifier(max_depth=7, max_features=None, min_samples_split=4, min_samples_leaf=8))"
   ]
  },
  {
   "cell_type": "code",
   "execution_count": null,
   "metadata": {},
   "outputs": [],
   "source": [
    "# Create list to store accurancy scores\n",
    "acc_score_dt3c = []\n",
    "\n",
    "# Loop to Fit, predict and evaluate models\n",
    "for i in range(0, len(model_dt3c)):\n",
    "    model = model_dt3c[i]           \n",
    "               \n",
    "    # Fit the model\n",
    "    model = model.fit(X_train, y_train)\n",
    "\n",
    "    # Make predictions using the testing data\n",
    "    predictions = model.predict(X_test)\n",
    "    \n",
    "    # Evaluate the model and store accuracy score\n",
    "    print(f'Evaluation of Model #{i+1}\\n')\n",
    "    acc_score = eval_model_cmcr()\n",
    "    acc_score_dt3c.append(acc_score)"
   ]
  },
  {
   "cell_type": "markdown",
   "metadata": {},
   "source": [
    "### Plot and Save Decision Trees"
   ]
  },
  {
   "cell_type": "code",
   "execution_count": null,
   "metadata": {},
   "outputs": [],
   "source": [
    "feature_names = list(X.columns)\n",
    "figsize = (15, 5)"
   ]
  },
  {
   "cell_type": "code",
   "execution_count": null,
   "metadata": {},
   "outputs": [],
   "source": [
    "# Plot trees for each model\n",
    "for i in range(0, len(model_dt3c)):\n",
    "    plot_d_tree(model_dt3c[i], acc_score_dt3c[i], i, num_classes, figsize)"
   ]
  },
  {
   "cell_type": "code",
   "execution_count": null,
   "metadata": {},
   "outputs": [],
   "source": [
    "# Plot one tree - Use to adjust figsize or testing one model\n",
    "i = 0\n",
    "num_classes = 3\n",
    "figsize=(50, 8)\n",
    "\n",
    "# plot_d_tree(model_dt3c[i], acc_score_dt3c[i], i, num_classes, figsize)"
   ]
  },
  {
   "cell_type": "markdown",
   "metadata": {},
   "source": [
    "## Random Forest with 3 Target Classes"
   ]
  },
  {
   "cell_type": "markdown",
   "metadata": {},
   "source": [
    "### Determine the best set of hyperparameters"
   ]
  },
  {
   "cell_type": "code",
   "execution_count": null,
   "metadata": {},
   "outputs": [],
   "source": [
    "# Create random grid with parameters\n",
    "# Resource: https://towardsdatascience.com/hyperparameter-tuning-the-random-forest-in-python-using-scikit-learn-28d2aa77dd74\n",
    "\n",
    "parameters = {'n_estimators': [200, 250, 300, 500, 800, 1000, 1500, 2000],\n",
    "               'max_depth': [5, 8, 10, 15, 20, 50],\n",
    "               'min_samples_split': [2, 3, 5, 7, 10, 20],\n",
    "               'min_samples_leaf': [1, 2, 4, 6],\n",
    "               'bootstrap': [True, False]\n",
    "             }"
   ]
  },
  {
   "cell_type": "code",
   "execution_count": null,
   "metadata": {},
   "outputs": [],
   "source": [
    "# Create the RF classifier instance\n",
    "model_rf = RandomizedSearchCV(RandomForestClassifier(), param_distributions = parameters, cv = 5, verbose = True)"
   ]
  },
  {
   "cell_type": "code",
   "execution_count": 77,
   "metadata": {},
   "outputs": [],
   "source": [
    "# Fit the model\n",
    "model_rf = model_rf.fit(X_train, y_train)"
   ]
  },
  {
   "cell_type": "code",
   "execution_count": 78,
   "metadata": {
    "scrolled": false
   },
   "outputs": [
    {
     "data": {
      "text/html": [
       "<style>#sk-container-id-6 {color: black;}#sk-container-id-6 pre{padding: 0;}#sk-container-id-6 div.sk-toggleable {background-color: white;}#sk-container-id-6 label.sk-toggleable__label {cursor: pointer;display: block;width: 100%;margin-bottom: 0;padding: 0.3em;box-sizing: border-box;text-align: center;}#sk-container-id-6 label.sk-toggleable__label-arrow:before {content: \"▸\";float: left;margin-right: 0.25em;color: #696969;}#sk-container-id-6 label.sk-toggleable__label-arrow:hover:before {color: black;}#sk-container-id-6 div.sk-estimator:hover label.sk-toggleable__label-arrow:before {color: black;}#sk-container-id-6 div.sk-toggleable__content {max-height: 0;max-width: 0;overflow: hidden;text-align: left;background-color: #f0f8ff;}#sk-container-id-6 div.sk-toggleable__content pre {margin: 0.2em;color: black;border-radius: 0.25em;background-color: #f0f8ff;}#sk-container-id-6 input.sk-toggleable__control:checked~div.sk-toggleable__content {max-height: 200px;max-width: 100%;overflow: auto;}#sk-container-id-6 input.sk-toggleable__control:checked~label.sk-toggleable__label-arrow:before {content: \"▾\";}#sk-container-id-6 div.sk-estimator input.sk-toggleable__control:checked~label.sk-toggleable__label {background-color: #d4ebff;}#sk-container-id-6 div.sk-label input.sk-toggleable__control:checked~label.sk-toggleable__label {background-color: #d4ebff;}#sk-container-id-6 input.sk-hidden--visually {border: 0;clip: rect(1px 1px 1px 1px);clip: rect(1px, 1px, 1px, 1px);height: 1px;margin: -1px;overflow: hidden;padding: 0;position: absolute;width: 1px;}#sk-container-id-6 div.sk-estimator {font-family: monospace;background-color: #f0f8ff;border: 1px dotted black;border-radius: 0.25em;box-sizing: border-box;margin-bottom: 0.5em;}#sk-container-id-6 div.sk-estimator:hover {background-color: #d4ebff;}#sk-container-id-6 div.sk-parallel-item::after {content: \"\";width: 100%;border-bottom: 1px solid gray;flex-grow: 1;}#sk-container-id-6 div.sk-label:hover label.sk-toggleable__label {background-color: #d4ebff;}#sk-container-id-6 div.sk-serial::before {content: \"\";position: absolute;border-left: 1px solid gray;box-sizing: border-box;top: 0;bottom: 0;left: 50%;z-index: 0;}#sk-container-id-6 div.sk-serial {display: flex;flex-direction: column;align-items: center;background-color: white;padding-right: 0.2em;padding-left: 0.2em;position: relative;}#sk-container-id-6 div.sk-item {position: relative;z-index: 1;}#sk-container-id-6 div.sk-parallel {display: flex;align-items: stretch;justify-content: center;background-color: white;position: relative;}#sk-container-id-6 div.sk-item::before, #sk-container-id-6 div.sk-parallel-item::before {content: \"\";position: absolute;border-left: 1px solid gray;box-sizing: border-box;top: 0;bottom: 0;left: 50%;z-index: -1;}#sk-container-id-6 div.sk-parallel-item {display: flex;flex-direction: column;z-index: 1;position: relative;background-color: white;}#sk-container-id-6 div.sk-parallel-item:first-child::after {align-self: flex-end;width: 50%;}#sk-container-id-6 div.sk-parallel-item:last-child::after {align-self: flex-start;width: 50%;}#sk-container-id-6 div.sk-parallel-item:only-child::after {width: 0;}#sk-container-id-6 div.sk-dashed-wrapped {border: 1px dashed gray;margin: 0 0.4em 0.5em 0.4em;box-sizing: border-box;padding-bottom: 0.4em;background-color: white;}#sk-container-id-6 div.sk-label label {font-family: monospace;font-weight: bold;display: inline-block;line-height: 1.2em;}#sk-container-id-6 div.sk-label-container {text-align: center;}#sk-container-id-6 div.sk-container {/* jupyter's `normalize.less` sets `[hidden] { display: none; }` but bootstrap.min.css set `[hidden] { display: none !important; }` so we also need the `!important` here to be able to override the default hidden behavior on the sphinx rendered scikit-learn.org. See: https://github.com/scikit-learn/scikit-learn/issues/21755 */display: inline-block !important;position: relative;}#sk-container-id-6 div.sk-text-repr-fallback {display: none;}</style><div id=\"sk-container-id-6\" class=\"sk-top-container\"><div class=\"sk-text-repr-fallback\"><pre>RandomForestClassifier(bootstrap=False, max_depth=10, min_samples_leaf=2,\n",
       "                       min_samples_split=7, n_estimators=250)</pre><b>In a Jupyter environment, please rerun this cell to show the HTML representation or trust the notebook. <br />On GitHub, the HTML representation is unable to render, please try loading this page with nbviewer.org.</b></div><div class=\"sk-container\" hidden><div class=\"sk-item\"><div class=\"sk-estimator sk-toggleable\"><input class=\"sk-toggleable__control sk-hidden--visually\" id=\"sk-estimator-id-6\" type=\"checkbox\" checked><label for=\"sk-estimator-id-6\" class=\"sk-toggleable__label sk-toggleable__label-arrow\">RandomForestClassifier</label><div class=\"sk-toggleable__content\"><pre>RandomForestClassifier(bootstrap=False, max_depth=10, min_samples_leaf=2,\n",
       "                       min_samples_split=7, n_estimators=250)</pre></div></div></div></div></div>"
      ],
      "text/plain": [
       "RandomForestClassifier(bootstrap=False, max_depth=10, min_samples_leaf=2,\n",
       "                       min_samples_split=7, n_estimators=250)"
      ]
     },
     "execution_count": 78,
     "metadata": {},
     "output_type": "execute_result"
    }
   ],
   "source": [
    "model_rf.best_estimator_"
   ]
  },
  {
   "cell_type": "markdown",
   "metadata": {},
   "source": [
    "### Fit, Predict and Evaluate Model"
   ]
  },
  {
   "cell_type": "code",
   "execution_count": null,
   "metadata": {},
   "outputs": [],
   "source": [
    "# Create list to store decision tree classifier instances\n",
    "model_rf3c = []\n",
    "\n",
    "# RF Model #1 \n",
    "model_rf3c.append(RandomForestClassifier(n_estimators=200, random_state=78, bootstrap=True,\n",
    "                                         max_depth=5, min_samples_split=2, min_samples_leaf=1))\n",
    "\n",
    "# RF Model #2\n",
    "model_rf3c.append(RandomForestClassifier(n_estimators=600, random_state=78, bootstrap=False,\n",
    "                                         max_depth=10, min_samples_split=5, min_samples_leaf=3))                 \n",
    "                  \n",
    "# RF Model #3: One of the best estimators from RandomizedSearchCV\n",
    "model_rf3c.append(RandomForestClassifier(n_estimators=250, random_state=78, bootstrap=False,\n",
    "                                         max_depth=10, min_samples_split=7, min_samples_leaf=2))"
   ]
  },
  {
   "cell_type": "code",
   "execution_count": null,
   "metadata": {
    "scrolled": true
   },
   "outputs": [],
   "source": [
    "# Create list to store accurancy scores\n",
    "acc_score_rf3c = []\n",
    "\n",
    "# Loop to fit, predict and evaluate models\n",
    "for i in range(0, len(model_rf3c)):\n",
    "    model = model_rf3c[i]           \n",
    "               \n",
    "    # Fit the model\n",
    "    model = model.fit(X_train, y_train)\n",
    "\n",
    "    # Make predictions using the testing data\n",
    "    predictions = model.predict(X_test)\n",
    "    \n",
    "    # Evaluate the model and save accuracy score\n",
    "    print(f'Evaluation of Model #{i+1}\\n')\n",
    "    acc_score = eval_model_cmcr()\n",
    "    acc_score_rf3c.append(acc_score)"
   ]
  },
  {
   "cell_type": "markdown",
   "metadata": {},
   "source": [
    "### Plot and Save Images of Sample Trees"
   ]
  },
  {
   "cell_type": "code",
   "execution_count": null,
   "metadata": {},
   "outputs": [],
   "source": [
    "feature_names = list(X.columns)\n",
    "figsize = (20, 20)"
   ]
  },
  {
   "cell_type": "code",
   "execution_count": null,
   "metadata": {},
   "outputs": [],
   "source": [
    "# Plot 4 trees for each forest - Use to adjust figsize or test one model\n",
    "for i in range(0, len(model_rf3c)):\n",
    "    plot_r_forest(model_rf3c[i], acc_score_rf3c[i], i, num_classes, figsize)"
   ]
  },
  {
   "cell_type": "code",
   "execution_count": null,
   "metadata": {},
   "outputs": [],
   "source": [
    "# Plot 4 trees for one forest - Use to adjust figsize or test one model\n",
    "i = 2\n",
    "num_classes = 3\n",
    "figsize = (40, 40)\n",
    "\n",
    "# plot_r_forest(model_rf3c[i], acc_score_rf3c[i], i, num_classes, figsize)"
   ]
  },
  {
   "cell_type": "code",
   "execution_count": null,
   "metadata": {
    "scrolled": true
   },
   "outputs": [],
   "source": [
    "# Random Forests in sklearn will automatically calculate feature importance\n",
    "# Loop through models to display features sorted by importance hight to low\n",
    "for i in range(0, len(model_rf2c)):\n",
    "    model = model_rf2c[i]\n",
    "    importances = model.feature_importances_\n",
    "    \n",
    "    # Sort features by their importance for current model\n",
    "    pprint(f'Feature importance for model #{i+1}')\n",
    "    pprint(sorted(zip(model.feature_importances_[0:15], X.columns[0:15]), reverse=True))\n",
    "    print('\\n')"
   ]
  }
 ],
 "metadata": {
  "colab": {
   "provenance": []
  },
  "kernelspec": {
   "display_name": "Python 3 (ipykernel)",
   "language": "python",
   "name": "python3"
  },
  "language_info": {
   "codemirror_mode": {
    "name": "ipython",
    "version": 3
   },
   "file_extension": ".py",
   "mimetype": "text/x-python",
   "name": "python",
   "nbconvert_exporter": "python",
   "pygments_lexer": "ipython3",
   "version": "3.10.12"
  }
 },
 "nbformat": 4,
 "nbformat_minor": 1
}
